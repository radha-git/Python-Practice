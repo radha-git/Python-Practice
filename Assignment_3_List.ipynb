{
 "cells": [
  {
   "cell_type": "code",
   "execution_count": 1,
   "id": "80ad24fb",
   "metadata": {},
   "outputs": [
    {
     "name": "stdout",
     "output_type": "stream",
     "text": [
      "{1, 2, 3, 4, 5, 7, 8, 9}\n"
     ]
    }
   ],
   "source": [
    "#Write a Python program to remove duplicates from a list?\n",
    "\n",
    "list1=[1,2,3,4,5,2,3,4,7,7,4,4,8,9]\n",
    "print(set(list1))"
   ]
  },
  {
   "cell_type": "code",
   "execution_count": 2,
   "id": "99f5c660",
   "metadata": {},
   "outputs": [
    {
     "name": "stdout",
     "output_type": "stream",
     "text": [
      "4\n",
      "9\n"
     ]
    }
   ],
   "source": [
    "#Write a Python program to find the length of all words of a list?\n",
    "\n",
    "fruits=['Apple','Mango','Banana','Pineapple']\n",
    "print(len(fruits))\n",
    "\n",
    "print(len(fruits[3]))"
   ]
  },
  {
   "cell_type": "code",
   "execution_count": 3,
   "id": "6bf66819",
   "metadata": {},
   "outputs": [
    {
     "name": "stdout",
     "output_type": "stream",
     "text": [
      "['Green', 'White', 'Black']\n",
      "['Red', 'Green', 'White', 'Black', 'Pink', 'Yellow']\n"
     ]
    }
   ],
   "source": [
    "'''\n",
    "Write a Python program to print a specified list after removing the 0th, 4th and 5th elements. \n",
    "Sample List : ['Red', 'Green', 'White', 'Black', 'Pink', 'Yellow']\n",
    "Expected Output : ['Green', 'White', 'Black']\n",
    "\n",
    "'''\n",
    "\n",
    "flowers=['Red','Green','White','Black','Pink','Yellow']\n",
    "\n",
    "print(flowers[1:4])\n",
    "print(flowers)"
   ]
  },
  {
   "cell_type": "code",
   "execution_count": 4,
   "id": "3278b60d",
   "metadata": {},
   "outputs": [
    {
     "name": "stdout",
     "output_type": "stream",
     "text": [
      "['Green', 'White', 'Black']\n"
     ]
    }
   ],
   "source": [
    "flowers=['Red','Green','White','Black','Pink','Yellow']\n",
    "val1,val2,val3=flowers[0],flowers[4],flowers[5]\n",
    "\n",
    "flowers.remove(val1)\n",
    "flowers.remove(val2)\n",
    "flowers.remove(val3)\n",
    "print(flowers)"
   ]
  },
  {
   "cell_type": "code",
   "execution_count": 5,
   "id": "55a0d63d",
   "metadata": {},
   "outputs": [
    {
     "name": "stdout",
     "output_type": "stream",
     "text": [
      "['*', '*', '*', '*', '*', '*']\n",
      "[['*', '*', '*', '*', '*', '*'], ['*', '*', '*', '*', '*', '*'], ['*', '*', '*', '*', '*', '*'], ['*', '*', '*', '*', '*', '*']]\n",
      "[[['*', '*', '*', '*', '*', '*'], ['*', '*', '*', '*', '*', '*'], ['*', '*', '*', '*', '*', '*'], ['*', '*', '*', '*', '*', '*']], [['*', '*', '*', '*', '*', '*'], ['*', '*', '*', '*', '*', '*'], ['*', '*', '*', '*', '*', '*'], ['*', '*', '*', '*', '*', '*']], [['*', '*', '*', '*', '*', '*'], ['*', '*', '*', '*', '*', '*'], ['*', '*', '*', '*', '*', '*'], ['*', '*', '*', '*', '*', '*']]]\n"
     ]
    }
   ],
   "source": [
    "#Write a Python program to generate a 3*4*6 3D array whose each element is *?\n",
    "list1= ['*']*6\n",
    "print(list1)\n",
    "\n",
    "list2=[list1]*4\n",
    "print(list2)\n",
    "\n",
    "list3=[list2]*3\n",
    "print(list3)"
   ]
  },
  {
   "cell_type": "code",
   "execution_count": 6,
   "id": "9661b6cc",
   "metadata": {},
   "outputs": [
    {
     "name": "stdout",
     "output_type": "stream",
     "text": [
      "{5}\n"
     ]
    }
   ],
   "source": [
    "#Write a Python program to get the difference between the two lists.?\n",
    "\n",
    "\n",
    "\n",
    "\n",
    "list3=[1,2,3,4,5]\n",
    "list4=[1,2,3,4]\n",
    "\n",
    "print(set(list3)-set(list4))\n"
   ]
  },
  {
   "cell_type": "code",
   "execution_count": 7,
   "id": "5798af00",
   "metadata": {},
   "outputs": [
    {
     "name": "stdout",
     "output_type": "stream",
     "text": [
      "7\n",
      "[54, 3, 2, 3, 4, 5, 67]\n"
     ]
    }
   ],
   "source": [
    "#Write a Python program to find the index of an item in a specified list?\n",
    "\n",
    "list1 = [1,2,3,4,54,3,2,3,4,5,67,8,9,6,4]\n",
    "print(len(list1[4:-4]))\n",
    "print(list1[4:-4])\n"
   ]
  },
  {
   "cell_type": "code",
   "execution_count": 8,
   "id": "f9ad0755",
   "metadata": {},
   "outputs": [
    {
     "name": "stdout",
     "output_type": "stream",
     "text": [
      "[1, 2, 3, 4, [5, 6, 7, 8]]\n"
     ]
    }
   ],
   "source": [
    "#Write a Python program to append a list to the second list. \n",
    "\n",
    "list_1=[1,2,3,4]\n",
    "list_1.append([5,6,7,8])\n",
    "print(list_1)"
   ]
  },
  {
   "cell_type": "code",
   "execution_count": 9,
   "id": "528ee42e",
   "metadata": {},
   "outputs": [
    {
     "data": {
      "text/plain": [
       "{0, 1, 2, 3, 4, 5, 6, 7, 8, 9}"
      ]
     },
     "execution_count": 9,
     "metadata": {},
     "output_type": "execute_result"
    }
   ],
   "source": [
    "# Write a Python program to get unique values from a list?\n",
    "\n",
    "list1=[1,2,3,2,3,1,1,1,2,2,4,4,5,6,7,8,9,0,0,3]\n",
    "set(list1)"
   ]
  },
  {
   "cell_type": "code",
   "execution_count": 10,
   "id": "6d9be9c1",
   "metadata": {},
   "outputs": [
    {
     "name": "stdout",
     "output_type": "stream",
     "text": [
      "9\n"
     ]
    }
   ],
   "source": [
    "# Write a Python program to count the number of elements in a list within a specified range?\n",
    "\n",
    "list1=[1,2,3,4,5,6,7,8,9]\n",
    "print(len(list1))"
   ]
  },
  {
   "cell_type": "code",
   "execution_count": 11,
   "id": "4c910e65",
   "metadata": {},
   "outputs": [
    {
     "data": {
      "text/plain": [
       "list"
      ]
     },
     "execution_count": 11,
     "metadata": {},
     "output_type": "execute_result"
    }
   ],
   "source": [
    "# Write a Python program to check whether a list contains a sublist\n",
    "\n",
    "list1=[1,2,[4,5,6,7]]\n",
    "type(list1[-1])\n",
    "\n"
   ]
  },
  {
   "cell_type": "code",
   "execution_count": 12,
   "id": "0f229c04",
   "metadata": {},
   "outputs": [
    {
     "name": "stdout",
     "output_type": "stream",
     "text": [
      "[('',), ('a', 'b'), ('a', 'b', 'c'), 'd']\n"
     ]
    }
   ],
   "source": [
    "'''\n",
    "Write a Python program to remove an empty tuple(s) from a list of tuples.\n",
    "Sample data: [(), (), ('',), ('a', 'b'), ('a', 'b', 'c'), ('d')]\n",
    "Expected output: [('',), ('a', 'b'), ('a', 'b', 'c'), 'd']\n",
    "\n",
    "'''\n",
    "\n",
    "list = [(), (), ('',), ('a', 'b'), ('a', 'b', 'c'), ('d')]\n",
    "list.remove(())\n",
    "list.remove(())\n",
    "print(list)\n"
   ]
  },
  {
   "cell_type": "code",
   "execution_count": 2,
   "id": "6b490a6d",
   "metadata": {},
   "outputs": [
    {
     "name": "stdout",
     "output_type": "stream",
     "text": [
      "{1, 2, 3, 4, 33, 6, 7, 5, 9}\n"
     ]
    }
   ],
   "source": [
    "list1=[1,2,1,1,2,3,33,4,9,9,9,6,7,5,6,4]   \n",
    "print(set(list1))"
   ]
  },
  {
   "cell_type": "code",
   "execution_count": 4,
   "id": "a365f36e",
   "metadata": {},
   "outputs": [
    {
     "name": "stdout",
     "output_type": "stream",
     "text": [
      "{3, 5}\n",
      "{6, 7}\n"
     ]
    }
   ],
   "source": [
    "list1=[1,2,3,4,5]\n",
    "list2=[1,2,4,6,7]\n",
    "print(set(list1)-set(list2))\n",
    "print(set(list2)-set(list1))"
   ]
  },
  {
   "cell_type": "code",
   "execution_count": null,
   "id": "1ea8fb25",
   "metadata": {},
   "outputs": [],
   "source": [
    "list1=[1,2,3,[1,2,3,4]]\n",
    "print(type())"
   ]
  },
  {
   "cell_type": "code",
   "execution_count": null,
   "id": "1d7475ab",
   "metadata": {},
   "outputs": [],
   "source": []
  },
  {
   "cell_type": "code",
   "execution_count": null,
   "id": "5bd2d8c4",
   "metadata": {},
   "outputs": [],
   "source": []
  }
 ],
 "metadata": {
  "kernelspec": {
   "display_name": "Python 3 (ipykernel)",
   "language": "python",
   "name": "python3"
  },
  "language_info": {
   "codemirror_mode": {
    "name": "ipython",
    "version": 3
   },
   "file_extension": ".py",
   "mimetype": "text/x-python",
   "name": "python",
   "nbconvert_exporter": "python",
   "pygments_lexer": "ipython3",
   "version": "3.10.1"
  }
 },
 "nbformat": 4,
 "nbformat_minor": 5
}
