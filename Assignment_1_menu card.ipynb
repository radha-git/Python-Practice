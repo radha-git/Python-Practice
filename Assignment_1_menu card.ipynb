{
 "cells": [
  {
   "cell_type": "code",
   "execution_count": 11,
   "id": "3d3cb7b3",
   "metadata": {},
   "outputs": [
    {
     "name": "stdout",
     "output_type": "stream",
     "text": [
      "Menu Items- Tea,Coffee,Juice,Vadapav\n",
      "Please enter your order coffee\n",
      "Please enter your name radha\n",
      "Hello radha welcome to ethans cafe, you have ordered a coffee for you\n",
      "Your order is in processing\n",
      "Thank you!! Visit Again!!!\n"
     ]
    }
   ],
   "source": [
    "Name=\"Ethans Cafe\"\n",
    "\n",
    "Menu=\"Tea,Coffee,Juice,Vadapav\"\n",
    "print('Menu Items- '+Menu)\n",
    "\n",
    "order=input('Please enter your order ')\n",
    "name=input('Please enter your name ')\n",
    "print('Hello ' + name +' welcome to ethans cafe, you have ordered a ' + order + ' for you' )\n",
    "\n",
    "print(\"Your order is in processing\")\n",
    "print(\"Thank you!! Visit Again!!!\")\n"
   ]
  },
  {
   "cell_type": "code",
   "execution_count": null,
   "id": "d60240d5",
   "metadata": {},
   "outputs": [],
   "source": []
  },
  {
   "cell_type": "raw",
   "id": "8540f413",
   "metadata": {},
   "source": [
    "\n",
    "print('__________________________Ethans cafe____________________')\n",
    "cat='breakfast'\n",
    "cat1='1)Vadapav'\n",
    "cat2='2)Idlisambar'\n",
    "cat3='3)Poha'\n",
    "\n",
    "name=input('Enter your name please ')\n",
    "order=input('Enter your order please ')\n",
    "\n",
    "\n",
    "print('Hello ' + name + ' welcome to ethans cafe '+ 'you have order '+ order  )"
   ]
  },
  {
   "cell_type": "code",
   "execution_count": 4,
   "id": "62f142c0",
   "metadata": {},
   "outputs": [
    {
     "name": "stdout",
     "output_type": "stream",
     "text": [
      "------------------------------------------------------------\n",
      "       ETHANS CAFE            \n",
      "------------------------------------------------------------\n",
      "1) Tea \n",
      "2) Water\n",
      "Please enter your name :radha\n",
      "Please enter your order :tea\n",
      "Hello radha\n",
      "Your order is tea\n"
     ]
    }
   ],
   "source": [
    "heading='-'*60\n",
    "\n",
    "print(heading +'\\n' + '       ETHANS CAFE            '  + '\\n' + heading)\n",
    "print('1) Tea \\n2) Water')\n",
    "\n",
    "name=input('Please enter your name :')\n",
    "order=input('Please enter your order :')\n",
    "\n",
    "print('Hello '+ name)\n",
    "print('Your order is '+order)"
   ]
  },
  {
   "cell_type": "code",
   "execution_count": 1,
   "id": "f2ec29ab",
   "metadata": {},
   "outputs": [
    {
     "data": {
      "text/plain": [
       "2.4074074074074074"
      ]
     },
     "execution_count": 1,
     "metadata": {},
     "output_type": "execute_result"
    }
   ],
   "source": [
    "65/27"
   ]
  },
  {
   "cell_type": "code",
   "execution_count": 7,
   "id": "5be680b8",
   "metadata": {},
   "outputs": [
    {
     "name": "stdout",
     "output_type": "stream",
     "text": [
      "Enter your number5\n",
      "odd number\n"
     ]
    }
   ],
   "source": [
    "user=int(input('Enter your number'))\n",
    "if user%2==0:\n",
    "    print(f'even number')\n",
    "else:\n",
    "    print(f'odd number')"
   ]
  },
  {
   "cell_type": "code",
   "execution_count": null,
   "id": "869b2a4b",
   "metadata": {},
   "outputs": [],
   "source": [
    "        A  B VACCXVVVVVVVVVVDD EVEVXF DG GGGGGGGH IFFEEEEEE"
   ]
  },
  {
   "cell_type": "code",
   "execution_count": null,
   "id": "8202e20e",
   "metadata": {},
   "outputs": [],
   "source": []
  }
 ],
 "metadata": {
  "kernelspec": {
   "display_name": "Python 3 (ipykernel)",
   "language": "python",
   "name": "python3"
  },
  "language_info": {
   "codemirror_mode": {
    "name": "ipython",
    "version": 3
   },
   "file_extension": ".py",
   "mimetype": "text/x-python",
   "name": "python",
   "nbconvert_exporter": "python",
   "pygments_lexer": "ipython3",
   "version": "3.10.1"
  }
 },
 "nbformat": 4,
 "nbformat_minor": 5
}
