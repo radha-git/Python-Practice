{
 "cells": [
  {
   "cell_type": "raw",
   "id": "50fef384",
   "metadata": {},
   "source": [
    "Train Info\n",
    "Train no\n",
    "    source-start point\n",
    "    stoppages-stops\n",
    "    destination-kaha kaha jati he\n",
    "    coach type\n",
    "        breath type-upper/lower\n",
    "            Available\n",
    "            booked\n",
    "userinput :\n",
    "    enter train no\n",
    "    enter coach type\n",
    "    enter berth type\n",
    "output :\n",
    "    no of seats available\n"
   ]
  },
  {
   "cell_type": "code",
   "execution_count": null,
   "id": "24ae6ce6",
   "metadata": {},
   "outputs": [],
   "source": [
    "Train Info\n",
    "Train no\n",
    "    source-start point\n",
    "    stoppages-stops\n",
    "    destination-kaha kaha jati he\n",
    "    coach type\n",
    "        breath type-upper/lower\n",
    "            Available\n",
    "            booked"
   ]
  },
  {
   "cell_type": "code",
   "execution_count": 4,
   "id": "8a519a59",
   "metadata": {},
   "outputs": [],
   "source": [
    "train_info={'123': {'source'      : 'Pune',\n",
    "                    'stopages'    : ['lonavla','panvel'],\n",
    "                    'destination' : 'Mumbai',\n",
    "                    'ctype'       : {'ac1' : {},\n",
    "                                     'ac2' : {'U':{'Available': [1,2,3],\n",
    "                                                   'booked'   : [4,5,6]\n",
    "                                                  },\n",
    "                                              'L':{'Available': [11,22,33],\n",
    "                                                   'booked'   : [14,15,16]\n",
    "                                                  }\n",
    "                                             }\n",
    "                                    }\n",
    "                   },\n",
    "           '456' : {},\n",
    "           '789' : {}\n",
    "           }"
   ]
  },
  {
   "cell_type": "code",
   "execution_count": 3,
   "id": "4af38545",
   "metadata": {},
   "outputs": [
    {
     "ename": "SyntaxError",
     "evalue": "invalid syntax (Temp/ipykernel_3652/3323720805.py, line 1)",
     "output_type": "error",
     "traceback": [
      "\u001b[1;36m  File \u001b[1;32m\"C:\\Users\\RK\\AppData\\Local\\Temp/ipykernel_3652/3323720805.py\"\u001b[1;36m, line \u001b[1;32m1\u001b[0m\n\u001b[1;33m    userinput :\u001b[0m\n\u001b[1;37m               ^\u001b[0m\n\u001b[1;31mSyntaxError\u001b[0m\u001b[1;31m:\u001b[0m invalid syntax\n"
     ]
    }
   ],
   "source": [
    "userinput :\n",
    "    enter train no\n",
    "        -if train number is valid then ask next question\n",
    "        -if train number is invalid then give error\n",
    "    enter coach type\n",
    "        -if coach type is vaild then ask nect question\n",
    "        -if coach type is invalid then give error\n",
    "    enter berth type\n",
    "        -if berth type is valid then give output\n",
    "        -if berth type is invalid then give error\n",
    "output :\n",
    "    no of seats available"
   ]
  },
  {
   "cell_type": "code",
   "execution_count": 6,
   "id": "c0eedc69",
   "metadata": {},
   "outputs": [
    {
     "name": "stdout",
     "output_type": "stream",
     "text": [
      "Enter train no : 123\n",
      "enter your coach type : ac2\n",
      "enter berth type : U\n"
     ]
    },
    {
     "ename": "KeyError",
     "evalue": "'available'",
     "output_type": "error",
     "traceback": [
      "\u001b[1;31m---------------------------------------------------------------------------\u001b[0m",
      "\u001b[1;31mKeyError\u001b[0m                                  Traceback (most recent call last)",
      "\u001b[1;32m~\\AppData\\Local\\Temp/ipykernel_3652/2269175946.py\u001b[0m in \u001b[0;36m<module>\u001b[1;34m\u001b[0m\n\u001b[0;32m      5\u001b[0m         \u001b[0mbtype\u001b[0m\u001b[1;33m=\u001b[0m\u001b[0minput\u001b[0m\u001b[1;33m(\u001b[0m\u001b[1;34m'enter berth type : '\u001b[0m\u001b[1;33m)\u001b[0m\u001b[1;33m\u001b[0m\u001b[1;33m\u001b[0m\u001b[0m\n\u001b[0;32m      6\u001b[0m         \u001b[1;32mif\u001b[0m \u001b[0mbtype\u001b[0m \u001b[1;32min\u001b[0m \u001b[0mtrain_info\u001b[0m\u001b[1;33m[\u001b[0m\u001b[0mtno\u001b[0m\u001b[1;33m]\u001b[0m\u001b[1;33m[\u001b[0m\u001b[1;34m'ctype'\u001b[0m\u001b[1;33m]\u001b[0m\u001b[1;33m[\u001b[0m\u001b[0mcotype\u001b[0m\u001b[1;33m]\u001b[0m\u001b[1;33m:\u001b[0m\u001b[1;33m\u001b[0m\u001b[1;33m\u001b[0m\u001b[0m\n\u001b[1;32m----> 7\u001b[1;33m             \u001b[0mberth_available\u001b[0m\u001b[1;33m=\u001b[0m\u001b[0mlen\u001b[0m\u001b[1;33m(\u001b[0m\u001b[0mtrain_info\u001b[0m\u001b[1;33m[\u001b[0m\u001b[0mtno\u001b[0m\u001b[1;33m]\u001b[0m\u001b[1;33m[\u001b[0m\u001b[1;34m'ctype'\u001b[0m\u001b[1;33m]\u001b[0m\u001b[1;33m[\u001b[0m\u001b[0mcotype\u001b[0m\u001b[1;33m]\u001b[0m\u001b[1;33m[\u001b[0m\u001b[0mbtype\u001b[0m\u001b[1;33m]\u001b[0m\u001b[1;33m[\u001b[0m\u001b[1;34m'available'\u001b[0m\u001b[1;33m]\u001b[0m\u001b[1;33m)\u001b[0m\u001b[1;33m\u001b[0m\u001b[1;33m\u001b[0m\u001b[0m\n\u001b[0m\u001b[0;32m      8\u001b[0m             \u001b[0mprint\u001b[0m\u001b[1;33m(\u001b[0m\u001b[1;34mf'count of set is available as per your choices-{berth_available}'\u001b[0m\u001b[1;33m)\u001b[0m\u001b[1;33m\u001b[0m\u001b[1;33m\u001b[0m\u001b[0m\n\u001b[0;32m      9\u001b[0m         \u001b[1;32melse\u001b[0m\u001b[1;33m:\u001b[0m\u001b[1;33m\u001b[0m\u001b[1;33m\u001b[0m\u001b[0m\n",
      "\u001b[1;31mKeyError\u001b[0m: 'available'"
     ]
    }
   ],
   "source": [
    "tno=input('Enter train no : ')\n",
    "if tno in train_info:\n",
    "    cotype= input('enter your coach type : ')\n",
    "    if cotype in train_info[tno]['ctype']:\n",
    "        btype=input('enter berth type : ')\n",
    "        if btype in train_info[tno]['ctype'][cotype]:\n",
    "            berth_available=len(train_info[tno]['ctype'][cotype][btype]['available'])\n",
    "            print(f'count of set is available as per your choices-{berth_available}')\n",
    "        else:    \n",
    "            print('Error : Invalid berth type') \n",
    "    else:\n",
    "        print('Error : Invalid coach type')\n",
    "                  \n",
    "\n",
    "else:\n",
    "    print('Error : Invalid train number')"
   ]
  },
  {
   "cell_type": "code",
   "execution_count": 1,
   "id": "70a5ef9b",
   "metadata": {},
   "outputs": [
    {
     "name": "stdout",
     "output_type": "stream",
     "text": [
      "Enter train number : 123\n",
      "Enter your cotch type : Ac2\n",
      "Enter your btype :L\n",
      "Available Berths:3\n"
     ]
    }
   ],
   "source": [
    "train_info={'123':{'Source' : 'Pune',\n",
    "                  'Stopages': ['Panvel','Lonavla','Pimpari'],\n",
    "                  'Destination':'Mumbai',\n",
    "                  'ctype':{'Ac1':{},\n",
    "                           'Ac2':{'U':{'Available':[1,2,3],\n",
    "                                     'Booked':[4,5,6]\n",
    "                                    },\n",
    "                                  'L':{'Available':[11,12,13],\n",
    "                                     'Booked':[24,25,26]\n",
    "                                    }\n",
    "                                 }\n",
    "                           \n",
    "                          }\n",
    "           }}\n",
    "tno=input('Enter train number : ')\n",
    "if tno in train_info:\n",
    "    ctype=input('Enter your cotch type : ')\n",
    "    if ctype in train_info[tno]['ctype']:\n",
    "        btype=input('Enter your btype :')\n",
    "        if btype in train_info[tno]['ctype'][ctype]:\n",
    "            breath_available=len(train_info[tno]['ctype'][ctype][btype]['Available'])\n",
    "            print(f'Available Berths:{breath_available}')\n",
    "    else:\n",
    "        print('Error : cotype is invalid ')\n",
    "else:\n",
    "    print('Error : Envalid train number ')"
   ]
  },
  {
   "cell_type": "code",
   "execution_count": null,
   "id": "49cc535c",
   "metadata": {},
   "outputs": [],
   "source": []
  }
 ],
 "metadata": {
  "kernelspec": {
   "display_name": "Python 3 (ipykernel)",
   "language": "python",
   "name": "python3"
  },
  "language_info": {
   "codemirror_mode": {
    "name": "ipython",
    "version": 3
   },
   "file_extension": ".py",
   "mimetype": "text/x-python",
   "name": "python",
   "nbconvert_exporter": "python",
   "pygments_lexer": "ipython3",
   "version": "3.10.1"
  }
 },
 "nbformat": 4,
 "nbformat_minor": 5
}
