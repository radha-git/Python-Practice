{
 "cells": [
  {
   "cell_type": "code",
   "execution_count": 11,
   "id": "4304f31e",
   "metadata": {},
   "outputs": [
    {
     "name": "stdout",
     "output_type": "stream",
     "text": [
      "Enter any string : aassddff\n",
      "8\n"
     ]
    }
   ],
   "source": [
    "#WAP to take input string from user and print the length of string?(ok)\n",
    "\n",
    "user=input('Enter any string : ')\n",
    "print(len(user))\n"
   ]
  },
  {
   "cell_type": "code",
   "execution_count": 10,
   "id": "66395638",
   "metadata": {},
   "outputs": [],
   "source": [
    "#WAP to get a string made of the first 2 and the last 2 chars from a given a string?\n",
    "\n"
   ]
  },
  {
   "cell_type": "code",
   "execution_count": 28,
   "id": "5ef0dd74",
   "metadata": {},
   "outputs": [
    {
     "name": "stdout",
     "output_type": "stream",
     "text": [
      "xyc\n",
      "abz\n"
     ]
    }
   ],
   "source": [
    "'''\n",
    "Write a python program to get a single string from two given strings by user,\n",
    "separated by a space and swap the first two charcters of each string ?\n",
    "Sample String : 'abc','xyz'\n",
    "Expected Result : 'xyc abz'    \n",
    "'''\n",
    "\n",
    "name='abc'\n",
    "name1='xyz'\n",
    "name2=name[:2]\n",
    "name3=name1[:2]\n",
    "\n",
    "print(name.replace(name2,name3))\n",
    "print(name1.replace(name3,name2))\n",
    "\n",
    "\n"
   ]
  },
  {
   "cell_type": "code",
   "execution_count": 11,
   "id": "71f1e657",
   "metadata": {},
   "outputs": [
    {
     "name": "stdout",
     "output_type": "stream",
     "text": [
      "xyc abz\n",
      "Radam Preha\n"
     ]
    }
   ],
   "source": [
    "str1= \"abc\"\n",
    "str2=\"xyz\"\n",
    "\n",
    "str3=str2[:2]+ str1[-1]+ ' ' +str1[:2] + str2[-1]\n",
    "print(str3)\n",
    "\n",
    "\n",
    "str4='Radha'\n",
    "str5='Pream'\n",
    "\n",
    "str6=str4[:3]+str5[-2:] +' ' +str5[:3]+str4[-2:]\n",
    "print(str6)"
   ]
  },
  {
   "cell_type": "code",
   "execution_count": 14,
   "id": "d181035f",
   "metadata": {},
   "outputs": [
    {
     "name": "stdout",
     "output_type": "stream",
     "text": [
      "taslsEhnCas\n",
      "EthansClass\n"
     ]
    }
   ],
   "source": [
    "'''\n",
    "Write a program to change a given string to a new string where \n",
    "all the even position characters are instring and all odd position \n",
    "characters are in end?(ok)\n",
    "'''\n",
    "\n",
    "name=\"EthansClass\"\n",
    "var=name[1::2]\n",
    "var1=name[::2]\n",
    "print(var + var1)\n",
    "print(name)"
   ]
  },
  {
   "cell_type": "code",
   "execution_count": 13,
   "id": "794f0adb",
   "metadata": {},
   "outputs": [
    {
     "name": "stdout",
     "output_type": "stream",
     "text": [
      "EhnCastasls\n"
     ]
    }
   ],
   "source": [
    "'''\n",
    "Write a program to change a given string to a new string where \n",
    "all the even position characters are instring and all odd position \n",
    "characters are in end?(ok)\n",
    "''' \n",
    "\n",
    "mesg=\"EthansClass\"\n",
    "str1=mesg[::2]+ '' + mesg[1::2]\n",
    "print(str1)"
   ]
  },
  {
   "cell_type": "code",
   "execution_count": 9,
   "id": "6f17e477",
   "metadata": {},
   "outputs": [
    {
     "name": "stdout",
     "output_type": "stream",
     "text": [
      "wieptopormoeoehcaatr\n",
      "etayhnrgatrmvtehrces\n"
     ]
    }
   ],
   "source": [
    "# Write a Python program to remove the characters which have odd index values of a given string(Ok)\n",
    "\n",
    "name='weiteapythonprogramtoremovethecharacters'\n",
    "print( name[::2])     # Remove odd characters \n",
    "print(name[1::2])     # Remove even characters"
   ]
  },
  {
   "cell_type": "code",
   "execution_count": 16,
   "id": "d00d925c",
   "metadata": {},
   "outputs": [
    {
     "name": "stdout",
     "output_type": "stream",
     "text": [
      "5\n",
      "EthannewsPune\n"
     ]
    }
   ],
   "source": [
    "#WAP to insert a string in the middle of a other string?\n",
    "\n",
    "name = 'EthansPune'\n",
    "\n",
    "mid = len(name)//2\n",
    "print(mid)\n",
    "\n",
    "print(name[:mid] + 'new' + name[mid:])"
   ]
  },
  {
   "cell_type": "code",
   "execution_count": 2,
   "id": "4c1f5402",
   "metadata": {},
   "outputs": [
    {
     "name": "stdout",
     "output_type": "stream",
     "text": [
      "4\n",
      "Iamanewgirl\n"
     ]
    }
   ],
   "source": [
    "mesg='Iamagirl'\n",
    "\n",
    "mid=len(mesg)//2\n",
    "print(mid)\n",
    "\n",
    "print(mesg[:mid]+ 'new'+mesg[mid:])"
   ]
  },
  {
   "cell_type": "code",
   "execution_count": null,
   "id": "8803db9a",
   "metadata": {},
   "outputs": [],
   "source": [
    "user=input('Enter five digit number')\n",
    "\n",
    "print(user)"
   ]
  },
  {
   "cell_type": "code",
   "execution_count": null,
   "id": "0abfc6c5",
   "metadata": {},
   "outputs": [],
   "source": []
  },
  {
   "cell_type": "code",
   "execution_count": null,
   "id": "fbf8b14e",
   "metadata": {},
   "outputs": [],
   "source": []
  }
 ],
 "metadata": {
  "kernelspec": {
   "display_name": "Python 3 (ipykernel)",
   "language": "python",
   "name": "python3"
  },
  "language_info": {
   "codemirror_mode": {
    "name": "ipython",
    "version": 3
   },
   "file_extension": ".py",
   "mimetype": "text/x-python",
   "name": "python",
   "nbconvert_exporter": "python",
   "pygments_lexer": "ipython3",
   "version": "3.10.1"
  }
 },
 "nbformat": 4,
 "nbformat_minor": 5
}
