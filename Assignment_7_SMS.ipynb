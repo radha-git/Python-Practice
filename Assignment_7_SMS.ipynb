{
 "cells": [
  {
   "cell_type": "code",
   "execution_count": 1,
   "id": "139bccf4",
   "metadata": {},
   "outputs": [
    {
     "name": "stdout",
     "output_type": "stream",
     "text": [
      "Central_School\n"
     ]
    }
   ],
   "source": [
    "SMS={}\n",
    "School_name='Central_School'\n",
    "width=60\n",
    "\n"
   ]
  },
  {
   "cell_type": "code",
   "execution_count": 1,
   "id": "0cc6daa1",
   "metadata": {},
   "outputs": [],
   "source": [
    "file_name=r'student_db.txt'\n",
    "\n",
    "def add_data_to_file(rno,name,eng_marks,hindi_marks):\n",
    "    data=f'{rno},{name},{eng_marks},{hindi_marks}\\n'\n",
    "    with open(file_name,'a') as fh:\n",
    "        fh.write(data)\n",
    "         \n",
    "    fh=open(file_name)\n",
    "    for line in fh:\n",
    "        print(line)\n",
    "        if line.split(',')[0]==rno:\n",
    "            fh.close()\n",
    "            return line.split(',')\n",
    "    return False\n",
    "    \n",
    "def input_result():\n",
    "    rno=input('Enter Roll number : ')\n",
    "    name=input('Enter Name : ')\n",
    "    eng_m=input('Enter English Marks : ')\n",
    "    hindi_m=input('Enter hindi Marks : ')\n",
    "    add_data_to_file(rno,name,eng_m,hindi_m)\n",
    "    \n",
    "def print_result():\n",
    "    rno=input('Enter Roll number : ')\n",
    "    data=get_result(rno)\n",
    "    if data:\n",
    "        print(f'Name           : {data[1]}')\n",
    "        print(f'English Marks  : {data[2]}')\n",
    "        print(f'Hindi Marks    : {data[3]}')\n",
    "    else:\n",
    "        print('Error: Invalid roll number')\n",
    "\n",
    "    \n",
    "def take_user_input():\n",
    "    while True:\n",
    "        print('1 . Add Result')\n",
    "        print('2 . Get Result')\n",
    "        print('3 . Exit')\n",
    "        ch=input('Enter choice : ')\n",
    "        if ch=='1':\n",
    "            input_result() \n",
    "        elif ch=='2':\n",
    "            print_result()\n",
    "        elif ch=='3':\n",
    "            break\n",
    "        else:\n",
    "            print('Error: Invalid choice')"
   ]
  },
  {
   "cell_type": "code",
   "execution_count": 3,
   "id": "f85b5d1a",
   "metadata": {},
   "outputs": [
    {
     "name": "stdout",
     "output_type": "stream",
     "text": [
      "1 . Add Result\n",
      "2 . Get Result\n",
      "3 . Exit\n",
      "Enter choice : 3\n"
     ]
    }
   ],
   "source": [
    "take_user_input()"
   ]
  },
  {
   "cell_type": "code",
   "execution_count": 5,
   "id": "5c14ed16",
   "metadata": {},
   "outputs": [],
   "source": [
    "\n",
    "def student_info():\n",
    "    name=input('Enter your First Name : ')\n",
    "    English_m=input('Enter your English marks : ')\n",
    "    Hindi_m=input('Enter your Hindi marks : ')\n",
    "    Scince_m=input('Enter your Scince marks : ')\n",
    "    Math_m=input('Enter your Math marks : ')\n",
    "    \n",
    "\n",
    "\n",
    "def get_result(rno):\n",
    "    fh=open(file_name)\n",
    "    for line in fh:\n",
    "        print(line)\n",
    "        if line.split(',')[0]==rno:\n",
    "            fh.close()\n",
    "            return line.split(',')\n",
    "    return False\n",
    "\n",
    "def take_user_input():\n",
    "    while True:\n",
    "        print('1 . Teachers Login')\n",
    "        print('2 . Student Login')\n",
    "        print('3 . Exit')\n",
    "        ch=input('Enter choice : ')\n",
    "        if ch=='1':\n",
    "            input_result() \n",
    "        elif ch=='2':\n",
    "            print_result()\n",
    "        elif ch=='3':\n",
    "            break\n",
    "        else:\n",
    "            print('Error: Invalid choice')"
   ]
  },
  {
   "cell_type": "markdown",
   "id": "e7883ab4",
   "metadata": {},
   "source": [
    "# Student System Management"
   ]
  },
  {
   "cell_type": "code",
   "execution_count": 1,
   "id": "26681e10",
   "metadata": {},
   "outputs": [],
   "source": [
    "school_name='RK'\n",
    "width=60\n",
    "\n",
    "def header():\n",
    "    hash = '*' * width\n",
    "    print(f'{hash}\\n{school_name.center(width)}\\n{hash}')\n",
    "\n",
    "def display_menu():\n",
    "    print(f'1.Teacher Login')\n",
    "    print(f'2.Student Login')\n",
    "    print(f'3.Exit')\n",
    "    ch=input('Enter your input : ')\n",
    "    if ch=='1':\n",
    "        teacher_login()\n",
    "    elif ch=='2':\n",
    "        student_login()\n",
    "    elif ch=='3':\n",
    "        return -1\n",
    "    else:\n",
    "        print('ERROR : INVALID CHOICE')\n",
    "        \n",
    "def teacher_login():\n",
    "    name=input('Enter your username : ')\n",
    "    password=input('Enter your password : ')\n",
    "    validate_teacher_login(name,password)\n",
    "    \n",
    "def student_login():\n",
    "    s_name=input('Enter your name : ')\n",
    "    rno=input('Enter your roll number : ')\n",
    "    \n",
    "def validate_teacher_login(username,password):\n",
    "    file_name=r'teacher.txt'\n",
    "    fh=open(file_name,'r')\n",
    "    for line in fh:\n",
    "        userdetail = line.split(',')\n",
    "        u,p = userdetail[0],userdetail[1].strip()\n",
    "        if(u==username and p==password):\n",
    "            return teacher_menu()\n",
    "    fh.close()\n",
    "    return False\n",
    "\n",
    "def get_student_result():\n",
    "    roll_no=input('Enter student roll number : ')\n",
    "    file_name=r'student.txt'\n",
    "    fh=open(file_name,'r')\n",
    "    for line in fh:\n",
    "        student_info=line.split(',')\n",
    "        r_no=student_info[0]\n",
    "        if r_no==roll_no:\n",
    "            print(line)\n",
    "    fh.close()\n",
    "    return False\n",
    "    \n",
    "def add_student_data(rno,name,eng_marks,hindi_marks,math_marks,percentage):\n",
    "    file_name=r'student.txt'\n",
    "    data=f'{rno},{name},{eng_marks},{hindi_marks},{math_marks},{percentage}\\n'\n",
    "    with open(file_name,'a') as fh:\n",
    "        fh.write(data)\n",
    "    print(f'student record updated with roll number: {rno}')\n",
    "    \n",
    "def gen_roll_no():\n",
    "    max_rollnumber = 0\n",
    "    file_name=r'student.txt'\n",
    "    fh=open(file_name,'r')\n",
    "    for line in fh:\n",
    "        student_info=line.split(',')\n",
    "        r_no=int(student_info[0])\n",
    "        if(r_no>max_rollnumber):\n",
    "            max_rollnumber = r_no\n",
    "    return int(max_rollnumber)+1\n",
    "            \n",
    "        \n",
    "def input_result():\n",
    "    rno=gen_roll_no()\n",
    "    name=input('Enter name : ')\n",
    "    eng_m=input('Enter english marks : ')\n",
    "    hindi_m=input('Enter hindi marks : ')\n",
    "    math_m=input('Enter math marks : ')\n",
    "    percentage = (int(eng_m)+int(hindi_m)+int(math_m))/3\n",
    "    add_student_data(rno,name,eng_m,hindi_m,math_m,percentage)\n",
    "    \n",
    "def teacher_menu():\n",
    "    while True:\n",
    "        print(f'Welcome Teachers')\n",
    "        print(f'1. For Add Student result')\n",
    "        print(f'2. Get Result')\n",
    "        print(f'3. Logout')\n",
    "        ch = input('enter your choice : ')\n",
    "        if ch=='1':\n",
    "            input_result()\n",
    "        elif ch=='2':\n",
    "            get_student_result()\n",
    "        elif ch=='3':\n",
    "            break\n",
    "        else:\n",
    "            print('Invalid choice')\n",
    "\n",
    "    \n",
    "def main_menu():\n",
    "    while True:\n",
    "        header()\n",
    "        exit = display_menu()\n",
    "        if exit==-1:\n",
    "            break\n",
    "            \n",
    "\n",
    "    \n",
    "\n"
   ]
  },
  {
   "cell_type": "code",
   "execution_count": null,
   "id": "c071c68c",
   "metadata": {},
   "outputs": [
    {
     "name": "stdout",
     "output_type": "stream",
     "text": [
      "************************************************************\n",
      "                             RK                             \n",
      "************************************************************\n",
      "1.Teacher Login\n",
      "2.Student Login\n",
      "3.Exit\n",
      "Enter your input : 1\n",
      "Enter your username : radha\n",
      "Enter your password : 12345\n",
      "************************************************************\n",
      "                             RK                             \n",
      "************************************************************\n",
      "1.Teacher Login\n",
      "2.Student Login\n",
      "3.Exit\n"
     ]
    }
   ],
   "source": [
    "main_menu()"
   ]
  },
  {
   "cell_type": "code",
   "execution_count": 91,
   "id": "04c0ac0d",
   "metadata": {},
   "outputs": [
    {
     "data": {
      "text/plain": [
       "True"
      ]
     },
     "execution_count": 91,
     "metadata": {},
     "output_type": "execute_result"
    }
   ],
   "source": [
    "username = 'urvi'\n",
    "password = 'xyz123'\n",
    "\n",
    "\n",
    "validate_teacher_login(username,password)    "
   ]
  },
  {
   "cell_type": "code",
   "execution_count": 102,
   "id": "275e8fd8",
   "metadata": {},
   "outputs": [
    {
     "data": {
      "text/plain": [
       "222"
      ]
     },
     "execution_count": 102,
     "metadata": {},
     "output_type": "execute_result"
    }
   ],
   "source": [
    "55+90+77"
   ]
  },
  {
   "cell_type": "code",
   "execution_count": 103,
   "id": "dcacce02",
   "metadata": {},
   "outputs": [
    {
     "data": {
      "text/plain": [
       "74.0"
      ]
     },
     "execution_count": 103,
     "metadata": {},
     "output_type": "execute_result"
    }
   ],
   "source": [
    "222/3"
   ]
  },
  {
   "cell_type": "code",
   "execution_count": null,
   "id": "5a117d70",
   "metadata": {},
   "outputs": [],
   "source": []
  },
  {
   "cell_type": "code",
   "execution_count": null,
   "id": "e4155e08",
   "metadata": {},
   "outputs": [],
   "source": []
  }
 ],
 "metadata": {
  "kernelspec": {
   "display_name": "Python 3 (ipykernel)",
   "language": "python",
   "name": "python3"
  },
  "language_info": {
   "codemirror_mode": {
    "name": "ipython",
    "version": 3
   },
   "file_extension": ".py",
   "mimetype": "text/x-python",
   "name": "python",
   "nbconvert_exporter": "python",
   "pygments_lexer": "ipython3",
   "version": "3.10.1"
  }
 },
 "nbformat": 4,
 "nbformat_minor": 5
}
